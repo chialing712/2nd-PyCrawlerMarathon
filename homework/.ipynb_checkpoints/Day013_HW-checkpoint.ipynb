{
 "cells": [
  {
   "cell_type": "markdown",
   "metadata": {},
   "source": [
    "# PTT 網路爬蟲實作練習\n",
    "\n",
    "\n",
    "* 能夠利用 Request + BeatifulSour 撰寫爬蟲，並存放到合適的資料結構\n"
   ]
  },
  {
   "cell_type": "markdown",
   "metadata": {},
   "source": [
    "## 作業目標\n",
    "\n",
    "根據範例 ，完成以下問題：\n",
    "\n",
    "* ① 印出最新文章的「作者」「標題」「時間」\n",
    "* ② 印出第一頁所有文章的「作者」「標題」「時間」\n"
   ]
  },
  {
   "cell_type": "markdown",
   "metadata": {},
   "source": [
    "### ① 印出最新文章的「作者」「標題」「時間」"
   ]
  },
  {
   "cell_type": "code",
   "execution_count": 53,
   "metadata": {},
   "outputs": [
    {
     "name": "stdout",
     "output_type": "stream",
     "text": [
      "[新聞] 評生涯最難防守球員 韋德選擇這三人\n",
      "nicholas21 (逝去之後)\n",
      "[專欄] 新冠肺炎衝擊 考驗爵士雙重奏化學效應\n",
      "hvariables (Speculative Male)\n",
      "Re: [花邊] 林書豪跟Ekpe Udoh返回中國\n",
      "kuluma (墨駒)\n",
      "[新聞] 諾亞遭投訴擾鄰 佔公共健身房作私人訓練\n",
      "Gotham (萬惡之城)\n",
      "[新聞] 林書豪正式重返北京備戰　稱「全世界沒這麼需要籃球過」\n",
      "currykukuo (陳菊濕汗)\n",
      "[情報] 金塊隊有成員檢驗反應呈陽性\n",
      "Superman007 ()\n",
      "[情報] NBA 聯盟下令關閉各球隊訓練設施\n",
      "Malpais (Malpais)\n",
      "[新聞] 肺炎衝擊 新球季12月開打成方案\n",
      "lagoon34 (良性溝通、創造美好人生)\n",
      "[情報] 76人有三名冠狀病毒檢測陽性\n",
      "kuloda (kuloda)\n",
      "[情報] 兩位湖人球員、塞爾提克Smart確診\n",
      "Wojnarowski (@wojespn)\n",
      "(本文已被刪除) [dragon803]\n",
      "(本文已被刪除) [DavFlow]\n",
      "[情報] Marcus Smart 確診、本人回應\n",
      "willy911006 (小溫)\n",
      "(本文已被刪除) [melman87]\n",
      "(已被Vedan刪除) <sa92219>1-1 1-2\n",
      "(本文已被刪除) [Scion]\n",
      "(已被Vedan刪除) <Tuesday>黃及人文\n",
      "[花邊] Lavine 隔離灌籃大賽\n",
      "meipialoha (讚友猴子)\n",
      "[花邊] Nash跟Marjanovic的#StayAtHomeChallenge\n",
      "pneumo (超☆冒險蓋)\n",
      "(本文已被刪除) [kairiyu]\n"
     ]
    }
   ],
   "source": [
    "import requests\n",
    "from bs4 import BeautifulSoup\n",
    "\n",
    "url = 'https://www.ptt.cc/bbs/NBA/index6501.html'\n",
    "r = requests.get(url)\n",
    "\n",
    "soup = BeautifulSoup(r.text, 'html5lib')\n",
    "for d in soup.find_all(class_='title'):\n",
    "    #print(d.find_all('a')[-1].text)\n",
    "    #print(d.text.replace('\\t', '').replace('\\n', ''))\n",
    "    print(d.text.replace('\\n', '').replace('\\t', ''))\n",
    "    try:\n",
    "        r = BeautifulSoup(requests.get('https://www.ptt.cc'+d.find('a')['href']).text, \"html5lib\")\n",
    "        print(r.find(class_='article-meta-value').text)\n",
    "    except:\n",
    "        continue"
   ]
  },
  {
   "cell_type": "markdown",
   "metadata": {},
   "source": [
    "### ② 印出第一頁所有文章的「作者」「標題」「時間」"
   ]
  },
  {
   "cell_type": "code",
   "execution_count": 64,
   "metadata": {},
   "outputs": [
    {
     "name": "stdout",
     "output_type": "stream",
     "text": [
      "Thu Mar 19 20:56:19 2020\n",
      "[新聞] 評生涯最難防守球員 韋德選擇這三人\n",
      "[作者]  nicholas21 (逝去之後)\n",
      "Thu Mar 19 23:17:27 2020\n",
      "[專欄] 新冠肺炎衝擊 考驗爵士雙重奏化學效應\n",
      "[作者]  hvariables (Speculative Male)\n",
      "Thu Mar 19 23:55:24 2020\n",
      "Re: [花邊] 林書豪跟Ekpe Udoh返回中國\n",
      "[作者]  kuluma (墨駒)\n",
      "Thu Mar 19 23:55:29 2020\n",
      "[新聞] 諾亞遭投訴擾鄰 佔公共健身房作私人訓練\n",
      "[作者]  Gotham (萬惡之城)\n",
      "Fri Mar 20 00:14:55 2020\n",
      "[新聞] 林書豪正式重返北京備戰　稱「全世界沒這麼需要籃球過」\n",
      "[作者]  currykukuo (陳菊濕汗)\n",
      "Fri Mar 20 02:57:18 2020\n",
      "[情報] 金塊有成員中標\n",
      "[作者]  Superman007 ()\n",
      "Fri Mar 20 04:28:21 2020\n",
      "[情報] NBA 聯盟下令關閉各球隊訓練設施\n",
      "[作者]  Malpais (Malpais)\n",
      "Fri Mar 20 04:50:00 2020\n",
      "[新聞] 肺炎衝擊 新球季12月開打成方案\n",
      "[作者]  lagoon34 (良性溝通、創造美好人生)\n",
      "Fri Mar 20 06:24:56 2020\n",
      "[情報] 76人有三名冠狀病毒檢測陽性\n",
      "[作者]  kuloda (kuloda)\n",
      "Fri Mar 20 07:18:01 2020\n",
      "[情報] 兩位湖人球員、塞爾提克Smart確診\n",
      "[作者]  Wojnarowski (@wojespn)\n",
      "Fri Mar 20 07:49:45 2020\n",
      "[情報] Smart 確診\n",
      "[作者]  willy911006 (小溫)\n",
      "Fri Mar 20 10:05:36 2020\n",
      "[花邊] Lavine 隔離灌籃大賽\n",
      "[作者]  meipialoha (讚友猴子)\n",
      "Fri Mar 20 10:52:57 2020\n",
      "[花邊] Nash跟Marjanovic的#StayAtHomeChallenge\n",
      "[作者]  pneumo (超☆冒險蓋)\n"
     ]
    }
   ],
   "source": [
    "import requests\n",
    "from bs4 import BeautifulSoup\n",
    "\n",
    "url = 'https://www.ptt.cc/bbs/NBA/index6501.html'\n",
    "r = requests.get(url)\n",
    "\n",
    "soup = BeautifulSoup(r.text, 'html5lib')\n",
    "for d in soup.find_all(class_='title'):\n",
    "    try:\n",
    "        r = BeautifulSoup(requests.get('https://www.ptt.cc'+d.find('a')['href']).text, \"html5lib\")\n",
    "        print(r.find_all(class_='article-meta-value')[-1].text)\n",
    "        print(r.find_all(class_='article-meta-value')[2].text)\n",
    "        print('[作者] ',r.find(class_='article-meta-value').text)\n",
    "    except:\n",
    "        continue"
   ]
  },
  {
   "cell_type": "markdown",
   "metadata": {},
   "source": [
    "### ③ 試著爬爬看其他版的文章"
   ]
  },
  {
   "cell_type": "code",
   "execution_count": 65,
   "metadata": {},
   "outputs": [
    {
     "name": "stdout",
     "output_type": "stream",
     "text": [
      "Re: [新聞] 馬照跑舞照跳 逾6成美國人認武漢肺炎疫\n",
      "DendiQ (貔貅)\n",
      "Re: [問題] 台灣到底有沒有社區感染情況?\n",
      "fukuspeed (換來一句謝謝妳的成全)\n",
      "[新聞] 泰國新增 50 例 累積 322 例\n",
      "hsinchen (GSD)\n",
      "[討論] 感謝多一點~防疫需要正能量\n",
      "akared (醬卡包)\n",
      "[新聞] 首例！男拒繳防疫罰鍰 執行署強制扣銀行\n",
      "Aaso (每度あり)\n",
      "[新聞] 凌晨4點支援桃機檢疫 醫師自拍感人\n",
      "ptt8592 (明月)\n",
      "[新聞] 各大航空公司班機停飛、改票、退費辦法！\n",
      "patricejhang (Patrice)\n",
      "Re: [新聞] 避免囤貨！家樂福宣布即日起每人每輛購物\n",
      "pbkfss (joker)\n",
      "[新聞] 「為了你，我堅守崗位...」呼吸治療師17 \n",
      "sandemo (一切都是剛剛開始)\n",
      "(本文已被刪除) [watanmila]\n",
      "[情報] 0320 CECC疫情指揮中心記者會摘要\n",
      "Zeel (我本將心照明月)\n",
      "[問題] 防疫專車疑問\n",
      "yukino811 (結菜)\n",
      "Re: [新聞] 口罩國家隊建功 40天打造90條全新產\n",
      "LibertyBell (May it be.....)\n",
      "[新聞] 吃自助餐安心嗎 消基會：近七成自助餐廳\n",
      "sponge88 (CIRCUS LIFE)\n",
      "==================發文終止線=================\n",
      "swattw (Swat-未來模式)\n",
      "[情報] 新增27例確診，24例境外3例本土\n",
      "Axwell (Axwell)\n",
      "(本文已被刪除) [s5048218]\n",
      "[情報] 全球旅遊疫情升至第三級警告，國人應避免所有非必要之出國\n",
      "s5048218 (Dawn)\n",
      "[情報] 國內累計135人確診，解除隔離28人\n",
      "Axwell (Axwell)\n",
      "(本文已被刪除) <carpfish>\n"
     ]
    }
   ],
   "source": [
    "import requests\n",
    "from bs4 import BeautifulSoup\n",
    "\n",
    "url = 'https://www.ptt.cc/bbs/nCoV2019/index347.html'\n",
    "r = requests.get(url)\n",
    "\n",
    "soup = BeautifulSoup(r.text, 'html5lib')\n",
    "for d in soup.find_all(class_='title'):\n",
    "    #print(d.find_all('a')[-1].text)\n",
    "    #print(d.text.replace('\\t', '').replace('\\n', ''))\n",
    "    print(d.text.replace('\\n', '').replace('\\t', ''))\n",
    "    try:\n",
    "        r = BeautifulSoup(requests.get('https://www.ptt.cc'+d.find('a')['href']).text, \"html5lib\")\n",
    "        print(r.find(class_='article-meta-value').text)\n",
    "    except:\n",
    "        continue"
   ]
  },
  {
   "cell_type": "code",
   "execution_count": null,
   "metadata": {},
   "outputs": [],
   "source": []
  }
 ],
 "metadata": {
  "kernelspec": {
   "display_name": "Python 3",
   "language": "python",
   "name": "python3"
  },
  "language_info": {
   "codemirror_mode": {
    "name": "ipython",
    "version": 3
   },
   "file_extension": ".py",
   "mimetype": "text/x-python",
   "name": "python",
   "nbconvert_exporter": "python",
   "pygments_lexer": "ipython3",
   "version": "3.7.3"
  }
 },
 "nbformat": 4,
 "nbformat_minor": 4
}
