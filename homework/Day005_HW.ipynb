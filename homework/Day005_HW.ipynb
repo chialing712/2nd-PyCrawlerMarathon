{
 "cells": [
  {
   "cell_type": "markdown",
   "metadata": {},
   "source": [
    "# API 資料串接 - 以 Dcard API 實作範例\n",
    "\n",
    "* 了解 Dcard API 使用方式與回傳內容\n",
    "* 撰寫程式存取 API 且解析 JSON 格式資料\n"
   ]
  },
  {
   "cell_type": "markdown",
   "metadata": {},
   "source": [
    "## 作業目標\n",
    "\n",
    "* 請利用 API: https://www.dcard.tw/_api/forums/pet/posts?popular=true 回答下列問題：\n",
    "\n",
    "1. 這個 API 一次會回傳幾筆資料？每一筆資料包含哪些欄位？\n",
    "2. 取出每一筆資料的「標題」、「貼文時間」、「留言人數」、「按讚人數」\n",
    "3. 計算熱門/非熱門文章的「平均留言人數」與「平均按讚人數」"
   ]
  },
  {
   "cell_type": "code",
   "execution_count": 77,
   "metadata": {},
   "outputs": [
    {
     "name": "stdout",
     "output_type": "stream",
     "text": [
      "0 32\n",
      "1 32\n",
      "2 32\n",
      "3 32\n",
      "4 32\n",
      "5 33\n",
      "6 32\n",
      "7 33\n",
      "8 32\n",
      "9 32\n",
      "10 32\n",
      "11 32\n",
      "12 32\n",
      "13 33\n",
      "14 32\n",
      "15 33\n",
      "16 33\n",
      "17 32\n",
      "18 32\n",
      "19 33\n",
      "20 32\n",
      "21 33\n",
      "22 32\n",
      "23 33\n",
      "24 33\n",
      "25 32\n",
      "26 32\n",
      "27 33\n",
      "28 32\n",
      "29 32\n"
     ]
    },
    {
     "ename": "IndexError",
     "evalue": "list index out of range",
     "output_type": "error",
     "traceback": [
      "\u001b[0;31m-------------------------------------------------------------------\u001b[0m",
      "\u001b[0;31mIndexError\u001b[0m                        Traceback (most recent call last)",
      "\u001b[0;32m<ipython-input-77-0ff93ca6b663>\u001b[0m in \u001b[0;36m<module>\u001b[0;34m\u001b[0m\n\u001b[1;32m      5\u001b[0m \u001b[0mdata\u001b[0m \u001b[0;34m=\u001b[0m \u001b[0mjson\u001b[0m\u001b[0;34m.\u001b[0m\u001b[0mloads\u001b[0m\u001b[0;34m(\u001b[0m\u001b[0mr\u001b[0m\u001b[0;34m.\u001b[0m\u001b[0mtext\u001b[0m\u001b[0;34m)\u001b[0m\u001b[0;34m\u001b[0m\u001b[0;34m\u001b[0m\u001b[0m\n\u001b[1;32m      6\u001b[0m \u001b[0;32mfor\u001b[0m \u001b[0mi\u001b[0m \u001b[0;32min\u001b[0m \u001b[0mrange\u001b[0m\u001b[0;34m(\u001b[0m\u001b[0mlen\u001b[0m\u001b[0;34m(\u001b[0m\u001b[0mdata\u001b[0m\u001b[0;34m[\u001b[0m\u001b[0;36m0\u001b[0m\u001b[0;34m]\u001b[0m\u001b[0;34m)\u001b[0m\u001b[0;34m)\u001b[0m\u001b[0;34m:\u001b[0m\u001b[0;34m\u001b[0m\u001b[0;34m\u001b[0m\u001b[0m\n\u001b[0;32m----> 7\u001b[0;31m     \u001b[0mprint\u001b[0m\u001b[0;34m(\u001b[0m\u001b[0mstr\u001b[0m\u001b[0;34m(\u001b[0m\u001b[0mi\u001b[0m\u001b[0;34m)\u001b[0m \u001b[0;34m+\u001b[0m  \u001b[0;34m' '\u001b[0m \u001b[0;34m+\u001b[0m \u001b[0mstr\u001b[0m\u001b[0;34m(\u001b[0m\u001b[0mlen\u001b[0m\u001b[0;34m(\u001b[0m\u001b[0mdata\u001b[0m\u001b[0;34m[\u001b[0m\u001b[0mi\u001b[0m\u001b[0;34m]\u001b[0m\u001b[0;34m)\u001b[0m\u001b[0;34m)\u001b[0m\u001b[0;34m)\u001b[0m\u001b[0;34m\u001b[0m\u001b[0;34m\u001b[0m\u001b[0m\n\u001b[0m\u001b[1;32m      8\u001b[0m \u001b[0;31m#30筆資料, 32個欄位\u001b[0m\u001b[0;34m\u001b[0m\u001b[0;34m\u001b[0m\u001b[0;34m\u001b[0m\u001b[0m\n",
      "\u001b[0;31mIndexError\u001b[0m: list index out of range"
     ]
    }
   ],
   "source": [
    "# 1. 這個 API 一次會回傳幾筆資料？每一筆資料包含哪些欄位？\n",
    "import requests\n",
    "import json\n",
    "r = requests.get('https://www.dcard.tw/_api/forums/pet/posts?popular=true')\n",
    "data = json.loads(r.text)\n",
    "for i in range(len(data[0])):\n",
    "    print(str(i) +  ' ' + str(len(data[i])))\n",
    "#30筆資料, 32個欄位"
   ]
  },
  {
   "cell_type": "code",
   "execution_count": 23,
   "metadata": {},
   "outputs": [
    {
     "data": {
      "text/plain": [
       "{'id': 233149120,\n",
       " 'title': '#圖 在公園遛天竺鼠ヽ(✿ﾟ▽ﾟ)ノ',\n",
       " 'excerpt': '上週心血來潮，帶家裡的天天去公園散散步，準備了遛繩和小外出籠就GO了，沒想到小小孩、國高中生、阿姨叔叔阿公阿嬤，經過的人都會回頭瞧一下，然後擺出很驚喜的表情，那種被關注的感覺實在很奇妙（X，不過可能是',\n",
       " 'anonymousSchool': False,\n",
       " 'anonymousDepartment': True,\n",
       " 'pinned': False,\n",
       " 'forumId': '7ee21581-1307-4ba9-b9dc-82028bdcca49',\n",
       " 'replyId': None,\n",
       " 'createdAt': '2020-02-27T08:00:49.162Z',\n",
       " 'updatedAt': '2020-02-27T08:00:49.162Z',\n",
       " 'commentCount': 12,\n",
       " 'likeCount': 169,\n",
       " 'withNickname': False,\n",
       " 'tags': [],\n",
       " 'topics': ['天竺鼠', '公園', '萌寵', '鼠', '寵物'],\n",
       " 'meta': {'layout': 'classic'},\n",
       " 'forumName': '寵物',\n",
       " 'forumAlias': 'pet',\n",
       " 'gender': 'F',\n",
       " 'school': '世新大學',\n",
       " 'replyTitle': None,\n",
       " 'mediaMeta': [{'id': 'b64c148c-d331-4d02-82b6-3e4d85ec51e8',\n",
       "   'url': 'https://imgur.dcard.tw/RnBQko5.jpg',\n",
       "   'normalizedUrl': 'https://imgur.dcard.tw/RnBQko5.jpg',\n",
       "   'thumbnail': 'https://imgur.dcard.tw/RnBQko5.jpg',\n",
       "   'type': 'image/thumbnail',\n",
       "   'tags': ['ANNOTATED_FAILED'],\n",
       "   'createdAt': '2020-02-27T08:00:49.162Z',\n",
       "   'updatedAt': '2020-02-27T08:00:49.162Z'},\n",
       "  {'id': 'b64c148c-d331-4d02-82b6-3e4d85ec51e8',\n",
       "   'url': 'https://imgur.dcard.tw/RnBQko5.jpg',\n",
       "   'normalizedUrl': '',\n",
       "   'thumbnail': 'https://imgur.dcard.tw/RnBQko5.jpg',\n",
       "   'type': 'image/jpeg',\n",
       "   'tags': ['ANNOTATED_FAILED'],\n",
       "   'createdAt': '2020-02-27T08:00:49.162Z',\n",
       "   'updatedAt': '2020-02-27T08:00:49.162Z'},\n",
       "  {'id': '030f61f6-e325-484b-abea-554ebcb07141',\n",
       "   'url': 'https://imgur.dcard.tw/vumYAp2.jpg',\n",
       "   'normalizedUrl': '',\n",
       "   'thumbnail': 'https://imgur.dcard.tw/vumYAp2.jpg',\n",
       "   'type': 'image/jpeg',\n",
       "   'tags': ['ANNOTATED_FAILED'],\n",
       "   'createdAt': '2020-02-27T08:00:49.162Z',\n",
       "   'updatedAt': '2020-02-27T08:00:49.162Z'},\n",
       "  {'id': '0435f775-f159-47ed-ba7a-c8e3eb4b056a',\n",
       "   'url': 'https://imgur.dcard.tw/VIyJRzb.jpg',\n",
       "   'normalizedUrl': '',\n",
       "   'thumbnail': 'https://imgur.dcard.tw/VIyJRzb.jpg',\n",
       "   'type': 'image/jpeg',\n",
       "   'tags': ['ANNOTATED'],\n",
       "   'createdAt': '2020-02-27T08:00:49.162Z',\n",
       "   'updatedAt': '2020-02-27T08:00:49.162Z'}],\n",
       " 'reactions': [{'id': '286f599c-f86a-4932-82f0-f5a06f1eca03', 'count': 168},\n",
       "  {'id': 'e8e6bc5d-41b0-4129-b134-97507523d7ff', 'count': 1}],\n",
       " 'hidden': False,\n",
       " 'customStyle': None,\n",
       " 'isSuspiciousAccount': False,\n",
       " 'layout': 'classic',\n",
       " 'withImages': True,\n",
       " 'withVideos': False,\n",
       " 'media': [{'url': 'http://i.imgur.com/RnBQko5.jpg'},\n",
       "  {'url': 'http://i.imgur.com/vumYAp2.jpg'},\n",
       "  {'url': 'http://i.imgur.com/VIyJRzb.jpg'}],\n",
       " 'reportReasonText': '',\n",
       " 'postAvatar': ''}"
      ]
     },
     "execution_count": 23,
     "metadata": {},
     "output_type": "execute_result"
    }
   ],
   "source": [
    "data[0]"
   ]
  },
  {
   "cell_type": "code",
   "execution_count": 47,
   "metadata": {},
   "outputs": [
    {
     "data": {
      "text/plain": [
       "32"
      ]
     },
     "execution_count": 47,
     "metadata": {},
     "output_type": "execute_result"
    }
   ],
   "source": [
    "len(data[29])"
   ]
  },
  {
   "cell_type": "code",
   "execution_count": 87,
   "metadata": {},
   "outputs": [
    {
     "name": "stdout",
     "output_type": "stream",
     "text": [
      "0 #圖 在公園遛天竺鼠ヽ(✿ﾟ▽ﾟ)ノ 2020-02-27T08:00:49.162Z 12\n",
      "1 拍屁屁奴隸的心聲 2020-02-27T13:38:01.565Z 8\n",
      "2 習慣躺枕頭睡覺 2020-02-27T05:50:41.877Z 8\n",
      "3 曬照🐿️ 2020-02-28T03:46:37.460Z 3\n",
      "4 文長 我擁有全世界最棒的貓咪 2020-02-27T23:47:16.852Z 5\n",
      "5 來曬一下家裡的黑狗🐶 2020-02-27T21:10:15.772Z 6\n",
      "6 朕想怎麼睡 就怎麼睡(˶‾᷄ ⁻̫ ‾᷅˵) 2020-02-27T19:53:48.404Z 0\n",
      "7 三腳黑妞；救援孕狗不是件容易的事 2020-02-28T04:16:05.721Z 1\n",
      "8 賤人！ 2020-02-27T17:57:19.700Z 3\n",
      "9 所以說到底是什麼生物呢 2020-02-28T06:28:07.294Z 2\n",
      "10 #協尋紅貴賓#懸賞金$5000#請大家幫忙頂上去！ 2020-02-27T17:05:28.180Z 3\n",
      "11 求這篇限時的貓咪 2020-02-28T06:23:06.364Z 0\n",
      "12 當你家的貓在看風景時⋯ 2020-02-27T06:48:59.523Z 0\n",
      "13 來曬一下可爾必思 2020-02-27T08:19:49.020Z 1\n",
      "14 露屁屁外星人 2020-02-27T07:09:01.168Z 0\n",
      "15 看那顫抖的小眼眶 2020-02-27T22:52:19.976Z 3\n",
      "16 家有小三 2020-02-27T10:14:48.735Z 0\n",
      "17 柯基犬曬萌照 2020-02-28T04:37:56.515Z 0\n",
      "18 同學我要妮的貓貓！！！ 2020-02-28T07:26:54.480Z 1\n",
      "19 🐔抓癢 2020-02-27T05:50:48.792Z 3\n",
      "20 懇請大家協尋狗小孩 2020-02-28T08:09:39.155Z 0\n",
      "21 戲精貓-瞳孔放大片篇 2020-02-28T05:13:43.720Z 0\n",
      "22 #圖 酒醉大鼠 2020-02-28T08:49:27.019Z 1\n",
      "23 [抒發文]小狗狗去天堂了 2020-02-27T14:08:40.800Z 3\n",
      "24 從小養到大的主子真的信任我嗎 2020-02-27T08:13:49.089Z 6\n",
      "25 學妹揪我一起看貓 2020-02-27T05:18:10.961Z 4\n",
      "26 尋狗 新莊夜市走丟的 2020-02-28T02:57:24.261Z 0\n",
      "27 虎視眈眈 2020-02-28T08:06:52.057Z 4\n",
      "28 彈力柴 2020-02-27T14:15:42.605Z 0\n",
      "29 感覺是走失的狗狗🐕（？） 2020-02-28T10:27:25.209Z 1\n"
     ]
    }
   ],
   "source": [
    "for i in range(len(data)):\n",
    "    print(str(i) + ' '+ data[i]['title'] +' '+ data[i]['createdAt'] + ' '+str(data[i]['commentCount'] + ' '+ ))"
   ]
  },
  {
   "cell_type": "code",
   "execution_count": 102,
   "metadata": {},
   "outputs": [
    {
     "name": "stdout",
     "output_type": "stream",
     "text": [
      "#圖 在公園遛天竺鼠ヽ(✿ﾟ▽ﾟ)ノ\n",
      "2020-02-27T08:00:49.162Z\n",
      "12\n",
      "169\n",
      "拍屁屁奴隸的心聲\n",
      "2020-02-27T13:38:01.565Z\n",
      "8\n",
      "84\n",
      "習慣躺枕頭睡覺\n",
      "2020-02-27T05:50:41.877Z\n",
      "8\n",
      "42\n",
      "曬照🐿️\n",
      "2020-02-28T03:46:37.460Z\n",
      "3\n",
      "40\n",
      "文長 我擁有全世界最棒的貓咪\n",
      "2020-02-27T23:47:16.852Z\n",
      "5\n",
      "36\n",
      "來曬一下家裡的黑狗🐶\n",
      "2020-02-27T21:10:15.772Z\n",
      "6\n",
      "30\n",
      "朕想怎麼睡 就怎麼睡(˶‾᷄ ⁻̫ ‾᷅˵)\n",
      "2020-02-27T19:53:48.404Z\n",
      "0\n",
      "28\n",
      "三腳黑妞；救援孕狗不是件容易的事\n",
      "2020-02-28T04:16:05.721Z\n",
      "1\n",
      "27\n",
      "賤人！\n",
      "2020-02-27T17:57:19.700Z\n",
      "3\n",
      "25\n",
      "所以說到底是什麼生物呢\n",
      "2020-02-28T06:28:07.294Z\n",
      "2\n",
      "23\n",
      "#協尋紅貴賓#懸賞金$5000#請大家幫忙頂上去！\n",
      "2020-02-27T17:05:28.180Z\n",
      "3\n",
      "23\n",
      "求這篇限時的貓咪\n",
      "2020-02-28T06:23:06.364Z\n",
      "0\n",
      "21\n",
      "當你家的貓在看風景時⋯\n",
      "2020-02-27T06:48:59.523Z\n",
      "0\n",
      "20\n",
      "來曬一下可爾必思\n",
      "2020-02-27T08:19:49.020Z\n",
      "1\n",
      "19\n",
      "露屁屁外星人\n",
      "2020-02-27T07:09:01.168Z\n",
      "0\n",
      "15\n",
      "看那顫抖的小眼眶\n",
      "2020-02-27T22:52:19.976Z\n",
      "3\n",
      "14\n",
      "家有小三\n",
      "2020-02-27T10:14:48.735Z\n",
      "0\n",
      "13\n",
      "柯基犬曬萌照\n",
      "2020-02-28T04:37:56.515Z\n",
      "0\n",
      "12\n",
      "同學我要妮的貓貓！！！\n",
      "2020-02-28T07:26:54.480Z\n",
      "1\n",
      "10\n",
      "🐔抓癢\n",
      "2020-02-27T05:50:48.792Z\n",
      "3\n",
      "10\n",
      "懇請大家協尋狗小孩\n",
      "2020-02-28T08:09:39.155Z\n",
      "0\n",
      "9\n",
      "戲精貓-瞳孔放大片篇\n",
      "2020-02-28T05:13:43.720Z\n",
      "0\n",
      "8\n",
      "#圖 酒醉大鼠\n",
      "2020-02-28T08:49:27.019Z\n",
      "1\n",
      "7\n",
      "[抒發文]小狗狗去天堂了\n",
      "2020-02-27T14:08:40.800Z\n",
      "3\n",
      "7\n",
      "從小養到大的主子真的信任我嗎\n",
      "2020-02-27T08:13:49.089Z\n",
      "6\n",
      "7\n",
      "學妹揪我一起看貓\n",
      "2020-02-27T05:18:10.961Z\n",
      "4\n",
      "7\n",
      "尋狗 新莊夜市走丟的\n",
      "2020-02-28T02:57:24.261Z\n",
      "0\n",
      "6\n",
      "虎視眈眈\n",
      "2020-02-28T08:06:52.057Z\n",
      "4\n",
      "5\n",
      "彈力柴\n",
      "2020-02-27T14:15:42.605Z\n",
      "0\n",
      "5\n",
      "感覺是走失的狗狗🐕（？）\n",
      "2020-02-28T10:27:25.209Z\n",
      "1\n",
      "4\n"
     ]
    }
   ],
   "source": [
    "for d in data:\n",
    "    print(d['title'])\n",
    "    print(d['createdAt'])\n",
    "    print(d['commentCount'])\n",
    "    print(d['likeCount'])"
   ]
  },
  {
   "cell_type": "code",
   "execution_count": 89,
   "metadata": {},
   "outputs": [],
   "source": [
    "# 2. 取出每一筆資料的「標題」、「貼文時間」、「留言人數」、「按讚人數」\n",
    "\n",
    "title = []\n",
    "commenttime = []\n",
    "count = []\n",
    "likes = []\n",
    "\n",
    "for i in range(len(data)):\n",
    "    #print(data[i]['title'])\n",
    "    title.append(data[i]['title'])\n",
    "    commenttime.append(data[i]['createdAt'])\n",
    "    count.append(data[i]['commentCount'])\n",
    "    likes.append(data[i]['likeCount'])\n",
    "    "
   ]
  },
  {
   "cell_type": "code",
   "execution_count": 101,
   "metadata": {},
   "outputs": [
    {
     "name": "stdout",
     "output_type": "stream",
     "text": [
      "2.6\n",
      "24.2\n"
     ]
    }
   ],
   "source": [
    "# 3. 計算熱門/非熱門文章的「平均留言人數」與「平均按讚人數」\n",
    "from statistics import mean\n",
    "\n",
    "print(mean(count))\n",
    "print(mean(likes))"
   ]
  },
  {
   "cell_type": "code",
   "execution_count": 104,
   "metadata": {},
   "outputs": [
    {
     "name": "stdout",
     "output_type": "stream",
     "text": [
      "2.6 24.2\n",
      "3.0 3.7666666666666666\n"
     ]
    }
   ],
   "source": [
    "\n",
    "commentCount = 0\n",
    "likeCount = 0\n",
    "for d in data:\n",
    "    commentCount += d['commentCount']\n",
    "    likeCount += d['likeCount']\n",
    "\n",
    "print(commentCount/len(data), likeCount/len(data))\n",
    "\n",
    "r = requests.get('https://www.dcard.tw/_api/forums/job/posts?popular=false')\n",
    "response = r.text\n",
    "data = json.loads(response)\n",
    "commentCount = 0\n",
    "likeCount = 0\n",
    "for d in data:\n",
    "    commentCount += d['commentCount']\n",
    "    likeCount += d['likeCount']\n",
    "\n",
    "print(commentCount/len(data), likeCount/len(data))"
   ]
  },
  {
   "cell_type": "code",
   "execution_count": null,
   "metadata": {},
   "outputs": [],
   "source": []
  }
 ],
 "metadata": {
  "kernelspec": {
   "display_name": "Python 3",
   "language": "python",
   "name": "python3"
  },
  "language_info": {
   "codemirror_mode": {
    "name": "ipython",
    "version": 3
   },
   "file_extension": ".py",
   "mimetype": "text/x-python",
   "name": "python",
   "nbconvert_exporter": "python",
   "pygments_lexer": "ipython3",
   "version": "3.7.3"
  }
 },
 "nbformat": 4,
 "nbformat_minor": 2
}
